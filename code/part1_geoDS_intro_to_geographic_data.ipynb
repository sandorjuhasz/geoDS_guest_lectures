{
 "cells": [
  {
   "cell_type": "markdown",
   "metadata": {},
   "source": [
    "### GEOGRAPHIC DATA SCIENCE - Part1 - Introduction to geographic data\n",
    "\n",
    "Guest lecture by Sándor Juhász | [sandorjuhasz.com](sandorjuhasz.com)\n",
    "<br>\n"
   ]
  },
  {
   "cell_type": "markdown",
   "metadata": {},
   "source": [
    "**Where to drink beer in Budapest?**\n",
    "\n",
    "Better bars in Buda?  Which district is worth going out in?<br>\n",
    "\n",
    "In the following we will explore standard geographic data files and learn how to plot, combine and aggregate geographic data.\n",
    "\n",
    "<img src=\"../figures/part1_figure.png\">"
   ]
  },
  {
   "cell_type": "code",
   "execution_count": null,
   "metadata": {},
   "outputs": [],
   "source": [
    "# if you run on Google Colab\n",
    "!git clone https://github.com/sandorjuhasz/geoDS_guest_lectures.git\n",
    "%cd geoDS_guest_lectures/code"
   ]
  },
  {
   "cell_type": "code",
   "execution_count": null,
   "metadata": {},
   "outputs": [],
   "source": [
    "# import libraries\n",
    "import numpy as np\n",
    "import pandas as pd\n",
    "import geopandas as gpd\n",
    "import matplotlib.pyplot as plt"
   ]
  },
  {
   "cell_type": "markdown",
   "metadata": {},
   "source": [
    "*/data/budapest_bars.geojson* contains information on BARS around Budapest (from Google Maps) -- let's use this as an example to start exploring geographic data"
   ]
  },
  {
   "cell_type": "code",
   "execution_count": null,
   "metadata": {},
   "outputs": [],
   "source": [
    "# google data on bars\n",
    "bp_bars = gpd.read_file(\"../data/budapest_bars.geojson\")\n",
    "bp_bars"
   ]
  },
  {
   "cell_type": "code",
   "execution_count": null,
   "metadata": {},
   "outputs": [],
   "source": [
    "# plot the data\n",
    "bp_bars.plot()"
   ]
  },
  {
   "cell_type": "markdown",
   "metadata": {},
   "source": [
    "Seems like the 'geometry' column contains POINT objects with coordinates and we can very easily visualize a bunch of dots in an abstract space. But it definitely misses context! */data/shape_files/budapest_shape* contains a SHP shape file with the boarders of Budapest."
   ]
  },
  {
   "cell_type": "code",
   "execution_count": null,
   "metadata": {},
   "outputs": [],
   "source": [
    "# Budapest shape\n",
    "bp_shape = gpd.read_file(\"../data/shape_files/budapest_shape/budapest_shape.shp\")\n",
    "bp_shape"
   ]
  },
  {
   "cell_type": "code",
   "execution_count": null,
   "metadata": {},
   "outputs": [],
   "source": [
    "# check out how this 'POLYGON' looks like\n",
    "bp_shape.plot()"
   ]
  },
  {
   "cell_type": "code",
   "execution_count": null,
   "metadata": {},
   "outputs": [],
   "source": [
    "# this is not a LAKE -- so lets keep its boundary ONLY -- note that the x-y axis run on different levels than the previous plot\n",
    "bp_shape.boundary.plot()"
   ]
  },
  {
   "cell_type": "code",
   "execution_count": null,
   "metadata": {},
   "outputs": [],
   "source": [
    "# check CRS\n",
    "bp_bars.crs"
   ]
  },
  {
   "cell_type": "code",
   "execution_count": null,
   "metadata": {},
   "outputs": [],
   "source": [
    "# change the crs!\n",
    "bp_shape = bp_shape.to_crs(4326)\n",
    "bp_shape.crs"
   ]
  },
  {
   "cell_type": "code",
   "execution_count": null,
   "metadata": {},
   "outputs": [],
   "source": [
    "# lets combine the two\n",
    "fig, ax = plt.subplots(1,1, figsize=(8,5))\n",
    "bp_bars.plot(ax=ax)\n",
    "bp_shape.boundary.plot(ax=ax)"
   ]
  },
  {
   "cell_type": "markdown",
   "metadata": {},
   "source": [
    "It looks like these are indeed *bars* around Budapest. Budapest is famously devided by the river Duna. To add more context, we could probably add the waterfronts."
   ]
  },
  {
   "cell_type": "code",
   "execution_count": null,
   "metadata": {},
   "outputs": [],
   "source": [
    "# rivers and waterfronts from OpenStreetMap -- bunch of different POLYGONs\n",
    "bp_river_shape = gpd.read_file(\"../data/shape_files/budapest_waters_shape/budapest_waters_shape.shp\")\n",
    "bp_river_shape"
   ]
  },
  {
   "cell_type": "code",
   "execution_count": null,
   "metadata": {},
   "outputs": [],
   "source": [
    "# lets see how they look like\n",
    "bp_river_shape.plot()"
   ]
  },
  {
   "cell_type": "code",
   "execution_count": null,
   "metadata": {},
   "outputs": [],
   "source": [
    "# why do we have multiple rows with the name \"Duna\"\n",
    "bp_river_shape[(bp_river_shape[\"osm_id\"]==\"6712324\") | (bp_river_shape[\"osm_id\"]==\"187129\")].plot(column=\"osm_id\")"
   ]
  },
  {
   "cell_type": "markdown",
   "metadata": {},
   "source": [
    "It is cool, but usually we work with boring administrative data. So let's bring districts to the map."
   ]
  },
  {
   "cell_type": "code",
   "execution_count": null,
   "metadata": {},
   "outputs": [],
   "source": [
    "# districts\n",
    "bp_districts = gpd.read_file(\"../data/shape_files/budapest_districts_shape/budapest_districts_shape.shp\")\n",
    "bp_districts"
   ]
  },
  {
   "cell_type": "markdown",
   "metadata": {},
   "source": [
    "Let's combine all this somehow to have a very nice plot on *bars around Budapest*! "
   ]
  },
  {
   "cell_type": "code",
   "execution_count": null,
   "metadata": {},
   "outputs": [],
   "source": [
    "# Budapest shape\n",
    "bp_shape = gpd.read_file(\"../data/shape_files/budapest_shape/budapest_shape.shp\")\n",
    "\n",
    "# river shape\n",
    "bp_river_shape = gpd.read_file(\"../data/shape_files/budapest_waters_shape/budapest_waters_shape.shp\")\n",
    "\n",
    "# districts\n",
    "bp_districts = gpd.read_file(\"../data/shape_files/budapest_districts_shape/budapest_districts_shape.shp\")\n",
    "\n",
    "# google data on bars\n",
    "bp_bars = gpd.read_file(\"../data/budapest_bars.geojson\")\n",
    "\n",
    "fig, ax = plt.subplots(1,1, figsize=(8,6))\n",
    "bp_river_shape.plot(ax=ax)\n",
    "bp_districts.boundary.plot(linewidth=0.5, color=\"grey\", ax=ax)\n",
    "bp_bars.plot(color=\"#f28e1c\", markersize=5, ax=ax)\n",
    "ax.set_title(\"Bars around Budapest\", size=18)\n",
    "ax.set_axis_off()"
   ]
  },
  {
   "cell_type": "markdown",
   "metadata": {},
   "source": [
    "**Best bars around Buda?**\n",
    "\n",
    "Use *sjoin* (spatial join) to combine the tables and identify bars (POINT) around districts of Buda (POLYGON) from spatial data."
   ]
  },
  {
   "cell_type": "code",
   "execution_count": null,
   "metadata": {},
   "outputs": [],
   "source": [
    "# look at the tables\n",
    "bp_bars.head(2)"
   ]
  },
  {
   "cell_type": "code",
   "execution_count": null,
   "metadata": {},
   "outputs": [],
   "source": [
    "bp_districts.head(2)"
   ]
  },
  {
   "cell_type": "code",
   "execution_count": null,
   "metadata": {},
   "outputs": [],
   "source": [
    "# identify bars around Buda through spatial join (sjoin)\n",
    "bp_bars.sjoin(bp_districts[bp_districts[\"buda01\"]==1])"
   ]
  },
  {
   "cell_type": "markdown",
   "metadata": {},
   "source": [
    "We must plot it, to be sure that it works!"
   ]
  },
  {
   "cell_type": "code",
   "execution_count": null,
   "metadata": {},
   "outputs": [],
   "source": [
    "# Buda and Pest bars\n",
    "fig, ax = plt.subplots(1,1, figsize=(8,6))\n",
    "bp_river_shape.plot(ax=ax)\n",
    "bp_districts.boundary.plot(linewidth=0.5, color=\"grey\", ax=ax)\n",
    "\n",
    "# identify bars around Buda through spatial join (sjoin)\n",
    "buda_bars = bp_bars.sjoin(bp_districts[bp_districts[\"buda01\"]==1])[\"place_id\"].to_list()\n",
    "bp_bars[\"buda_bar\"] = np.where(bp_bars[\"place_id\"].isin(buda_bars), 1, 0)\n",
    "bp_bars.plot(column=\"buda_bar\", markersize=5, ax=ax)\n",
    "\n",
    "ax.set_title(\"Bars around Buda and Pest\", size=18)\n",
    "ax.set_axis_off()"
   ]
  },
  {
   "cell_type": "markdown",
   "metadata": {},
   "source": [
    "Looks good! *sjoin* seems to be a very powerful tool! So far we joined POINT and POLYGON type of data. Does it work with a set of POLYGONs?\n",
    "\n",
    "Let's see if there are bars close to the river Duna in district IX. and XI."
   ]
  },
  {
   "cell_type": "code",
   "execution_count": null,
   "metadata": {},
   "outputs": [],
   "source": [
    "# data prep\n",
    "focal_districts = [\"IX. kerulet\", \"XI. kerulet\"]\n",
    "fd = bp_districts[bp_districts[\"name\"].isin(focal_districts)]\n",
    "fd.plot()"
   ]
  },
  {
   "cell_type": "code",
   "execution_count": null,
   "metadata": {},
   "outputs": [],
   "source": [
    "# join river POLYGON and district POLYGON\n",
    "river_in_fd = gpd.sjoin(bp_river_shape, fd, how=\"inner\", predicate=\"intersects\")\n",
    "river_in_fd"
   ]
  },
  {
   "cell_type": "code",
   "execution_count": null,
   "metadata": {},
   "outputs": [],
   "source": [
    "# bars around the river Duna\n",
    "fd_bars = bp_bars.sjoin(fd)\n",
    "\n",
    "fig, ax = plt.subplots(1,1, figsize=(8,6))\n",
    "river_in_fd.plot(ax=ax, zorder=2)\n",
    "fd.boundary.plot(color=\"darkgrey\", ax=ax, zorder=3)\n",
    "fd_bars.plot(color=\"#f28e1c\", markersize=5, ax=ax, zorder=4)\n",
    "\n",
    "ax.set_title(\"Bars around Duna (IX. and XI.)\", size=18)\n",
    "ax.set_axis_off()"
   ]
  },
  {
   "cell_type": "markdown",
   "metadata": {},
   "source": [
    "Let's find the best bars around Buda!"
   ]
  },
  {
   "cell_type": "code",
   "execution_count": null,
   "metadata": {},
   "outputs": [],
   "source": [
    "# identify bars around Buda through spatial join (sjoin)\n",
    "buda_bars = bp_bars.sjoin(bp_districts[bp_districts[\"buda01\"]==1])[\"place_id\"].to_list()\n",
    "bp_bars[\"buda_bar\"] = np.where(bp_bars[\"place_id\"].isin(buda_bars), 1, 0)"
   ]
  },
  {
   "cell_type": "code",
   "execution_count": null,
   "metadata": {},
   "outputs": [],
   "source": [
    "# define the bests\n",
    "rating_threshold = 4.9\n",
    "minimum_rating = 20\n",
    "buda01 = 1\n",
    "best_bars = bp_bars[\n",
    "    (bp_bars[\"rating\"] >= rating_threshold)\n",
    "    & (bp_bars[\"nr_ratings\"] >= minimum_rating)\n",
    "    & (bp_bars[\"buda_bar\"] == buda01)\n",
    "]\n",
    "\n",
    "bp_bars[\"best_on_side\"] = (bp_bars[\"place_id\"].isin(best_bars[\"place_id\"])).astype(int)"
   ]
  },
  {
   "cell_type": "code",
   "execution_count": null,
   "metadata": {},
   "outputs": [],
   "source": [
    "fig, ax = plt.subplots(1,1, figsize=(6,5))\n",
    "bp_river_shape.plot(ax=ax)\n",
    "bp_districts.boundary.plot(linewidth=0.5, color=\"grey\", ax=ax)\n",
    "bp_bars[bp_bars[\"best_on_side\"]==1].plot(color=\"red\", ax=ax)\n",
    "ax.set_title(\"The best bars Buda\", size=18)\n",
    "ax.set_axis_off()"
   ]
  },
  {
   "cell_type": "markdown",
   "metadata": {},
   "source": [
    "It is good to know that there are cool bars around Buda, but the map of bar dots suggest that Pest has a higher density of bars. Let's make a standard plot to show the number of bars per district."
   ]
  },
  {
   "cell_type": "code",
   "execution_count": null,
   "metadata": {},
   "outputs": [],
   "source": [
    "# use spatial join to figure out bar and district relations\n",
    "bars_in_districts = bp_districts.sjoin(bp_bars)\n",
    "\n",
    "# pandas magic to aggregate data by districts\n",
    "bars_in_districts = bars_in_districts.groupby([\"name\", \"geometry\"]).agg(nr_bars = pd.NamedAgg(\"place_id\", \"nunique\")).reset_index()\n",
    "\n",
    "# turn the pandas DataFrame into a GeoDataFrame\n",
    "bars_in_districts = gpd.GeoDataFrame(bars_in_districts)\n",
    "\n",
    "# make it stellar!\n",
    "fig,ax = plt.subplots(1,1, figsize=(6,4))\n",
    "bars_in_districts.plot(column=\"nr_bars\", cmap=\"Reds\", legend=True, legend_kwds={\"label\": \"Number of bars\", \"orientation\": \"vertical\"}, ax=ax)\n",
    "ax.set_axis_off()"
   ]
  },
  {
   "cell_type": "code",
   "execution_count": null,
   "metadata": {},
   "outputs": [],
   "source": [
    "# combine all the above to make things look just NICE\n",
    "fig, ax = plt.subplots(1,3, figsize=(15, 5))\n",
    "fontsize=16\n",
    "\n",
    "bp_river_shape.plot(ax=ax[0])\n",
    "bp_districts.boundary.plot(linewidth=0.5, color=\"grey\", ax=ax[0])\n",
    "bp_bars.plot(color=\"#f28e1c\", markersize=5, ax=ax[0])\n",
    "ax[0].set_title(\"Bars around Budapest\", size=fontsize)\n",
    "ax[0].set_axis_off()\n",
    "\n",
    "bp_river_shape.plot(ax=ax[1])\n",
    "bp_districts.boundary.plot(linewidth=0.5, color=\"grey\", ax=ax[1])\n",
    "bp_bars[bp_bars[\"best_on_side\"]==1].plot(color=\"red\", ax=ax[1])\n",
    "ax[1].set_title(\"The best bars of Buda\", size=fontsize)\n",
    "ax[1].set_axis_off()\n",
    "\n",
    "bars_in_districts.plot(column=\"nr_bars\", cmap=\"Reds\", ax=ax[2])\n",
    "bars_in_districts.boundary.plot(color=\"white\", linewidth=0.125, ax=ax[2])\n",
    "ax[2].axis('off')\n",
    "\n",
    "# create colorbar as a legend\n",
    "vmin = bars_in_districts[\"nr_bars\"].min()\n",
    "vmax = bars_in_districts[\"nr_bars\"].max()\n",
    "\n",
    "sm = plt.cm.ScalarMappable(cmap=\"Reds\", norm=plt.Normalize(vmin=vmin, vmax=vmax))\n",
    "cbar = fig.colorbar(sm, orientation=\"vertical\", fraction=0.0325, pad=0.025, shrink=0.9, ax=ax[2])\n",
    "cbar.ax.set_ylabel(\"Number of bars\", size=fontsize)\n",
    "cbar.ax.get_yaxis().labelpad = 10\n",
    "cbar.ax.tick_params(labelsize = fontsize-5)\n",
    "ax[2].set_axis_off()\n",
    "\n",
    "#plt.savefig(\"../figures/part1_figure.png\", bbox_inches='tight', facecolor=\"white\")"
   ]
  }
 ],
 "metadata": {
  "kernelspec": {
   "display_name": "Python 3.10.8 64-bit",
   "language": "python",
   "name": "python3"
  },
  "language_info": {
   "codemirror_mode": {
    "name": "ipython",
    "version": 3
   },
   "file_extension": ".py",
   "mimetype": "text/x-python",
   "name": "python",
   "nbconvert_exporter": "python",
   "pygments_lexer": "ipython3",
   "version": "3.12.2"
  },
  "orig_nbformat": 4,
  "vscode": {
   "interpreter": {
    "hash": "b0fa6594d8f4cbf19f97940f81e996739fb7646882a419484c72d19e05852a7e"
   }
  }
 },
 "nbformat": 4,
 "nbformat_minor": 2
}
