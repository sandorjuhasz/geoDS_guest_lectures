{
 "cells": [
  {
   "cell_type": "markdown",
   "metadata": {},
   "source": [
    "### GEOGRAPHIC DATA SCIENCE - part 2 - OSM and spatial networks\n",
    "\n",
    "Guest lecture by Sándor Juhász | [sandorjuhasz.com](sandorjuhasz.com)\n",
    "<br>\n"
   ]
  },
  {
   "cell_type": "code",
   "execution_count": null,
   "metadata": {},
   "outputs": [],
   "source": [
    "# if you run on Google Colab\n",
    "!git clone https://github.com/sandorjuhasz/geoDS_guest_lectures.git\n",
    "%cd geoDS_guest_lectures/code\n",
    "\n",
    "!pip install osmnx"
   ]
  },
  {
   "cell_type": "code",
   "execution_count": null,
   "metadata": {},
   "outputs": [],
   "source": [
    "# import libraries\n",
    "import numpy as np\n",
    "import pandas as pd\n",
    "import geopandas as gpd\n",
    "from shapely.geometry import LineString, Point\n",
    "import osmnx as ox\n",
    "import networkx as nx \n",
    "import matplotlib.pyplot as plt"
   ]
  },
  {
   "cell_type": "markdown",
   "metadata": {},
   "source": [
    "**Building footprints**\n",
    "\n",
    "OSM is a great source of data on the built environment. In the following, we will demonstrate how to query, handle and visualize OSM data through a few examples."
   ]
  },
  {
   "cell_type": "code",
   "execution_count": null,
   "metadata": {},
   "outputs": [],
   "source": [
    "# requrest shape from OSM\n",
    "district = ox.geocode_to_gdf(\"9th District, Budapest\")\n",
    "district.plot()"
   ]
  },
  {
   "cell_type": "code",
   "execution_count": null,
   "metadata": {},
   "outputs": [],
   "source": [
    "# lets get the building footprint\n",
    "district_polygon = district.geometry.to_list()[0]\n",
    "footprint = ox.features_from_polygon(district_polygon, tags = {\"building\" : True})\n",
    "len(footprint)"
   ]
  },
  {
   "cell_type": "code",
   "execution_count": null,
   "metadata": {},
   "outputs": [],
   "source": [
    "footprint.plot()"
   ]
  },
  {
   "cell_type": "code",
   "execution_count": null,
   "metadata": {},
   "outputs": [],
   "source": [
    "# lets look at what other features we got with the footprint\n",
    "footprint.head(2)"
   ]
  },
  {
   "cell_type": "code",
   "execution_count": null,
   "metadata": {},
   "outputs": [],
   "source": [
    "fig, ax = plt.subplots(1,1, figsize=(10,12))\n",
    "crs = 23700\n",
    "\n",
    "# background layer\n",
    "footprint.to_crs(crs).plot(\n",
    "    ax=ax,\n",
    "    color=\"darkgrey\",\n",
    "    alpha=0.6,\n",
    "    linewidth=0.5\n",
    ")\n",
    "\n",
    "# main layer with amenities\n",
    "amenity_plot = footprint.to_crs(crs).plot(\n",
    "    ax=ax,\n",
    "    column=\"amenity\",\n",
    "    cmap=\"tab10\",\n",
    "    linewidth=0.5,\n",
    "    edgecolor=\"black\",\n",
    "    legend=True\n",
    ")\n",
    "\n",
    "# legend\n",
    "legend = amenity_plot.get_figure().axes[-1]  # access the colorbar/legend axis\n",
    "ax.set_axis_off()"
   ]
  },
  {
   "cell_type": "markdown",
   "metadata": {},
   "source": [
    "**Points of interest**\n",
    "\n",
    "OSM contain a large number of destinations, amenities and other types of 'points of interests' (POIs).\n",
    "\n",
    "They are - mostly - mapped as point geometries. To get a specific type of POI in e.g. IX. district of Budapest, we can again use `ox.geometries_from_place()` combined with a **tag dictionary**.\n",
    "\n",
    "Lets download all shops in IX. district, Budapest which have been tagged as 'bakery'."
   ]
  },
  {
   "cell_type": "code",
   "execution_count": null,
   "metadata": {},
   "outputs": [],
   "source": [
    "# define tags used to query OSM\n",
    "tags = {\"shop\": \"bakery\"}  \n",
    "\n",
    "# download objects that matches query within specific location\n",
    "bakeries = ox.geometries_from_place(\n",
    "    [\"9th District, Budapest\"], tags\n",
    ")"
   ]
  },
  {
   "cell_type": "code",
   "execution_count": null,
   "metadata": {},
   "outputs": [],
   "source": [
    "fig, ax = plt.subplots(1,1, figsize=(5,5))\n",
    "\n",
    "# plot the bakeries\n",
    "bakeries.to_crs(crs).plot(ax=ax, color=\"orange\", zorder=3)\n",
    "\n",
    "# add the boundary\n",
    "district.to_crs(crs).boundary.plot(ax=ax, color=\"darkgrey\", zorder=2)\n",
    "\n",
    "ax.set_axis_off()"
   ]
  },
  {
   "cell_type": "markdown",
   "metadata": {},
   "source": [
    "**Street networks**\n",
    "\n",
    "Street networks is one of the more common types of **spatial networks**. There are several different ways of defining which area we want network data for.\n",
    "\n",
    "For example:\n",
    "\n",
    "* Use `ox.graph_from_point()` to get the network centered around a specific location, defined by a coordinate pair."
   ]
  },
  {
   "cell_type": "markdown",
   "metadata": {},
   "source": [
    "[epsg.io](https://epsg.io/) is a great resource for finding coordinates in different coordinate reference systems (CRS).\n",
    "\n",
    "OSMnx uses WGS84/EPSG:4326"
   ]
  },
  {
   "cell_type": "markdown",
   "metadata": {},
   "source": [
    "* Use the parameters `dist` to define the search window around our point\n",
    "\n",
    "* Set `dist_type = network` to use the distance in network length (compared to a straight \"as the crow flies\" distance)\n",
    "\n",
    "* Set `network_type = walk` to only include the part of the street network where walking is allowed"
   ]
  },
  {
   "cell_type": "code",
   "execution_count": null,
   "metadata": {},
   "outputs": [],
   "source": [
    "# coordinates of the C building of Corvinus University of Budapest\n",
    "# notice that the coordinates must be passed as lat, long (y,x)\n",
    "location_point = (\n",
    "    47.48498593072006, # lat\n",
    "    19.060465555108056, # lon\n",
    ")  \n",
    "\n",
    "# get graph within 1000 walking network distance of the C building\n",
    "graph1 = ox.graph_from_point(\n",
    "    location_point, dist=1000, dist_type=\"network\", network_type=\"walk\" \n",
    ")  "
   ]
  },
  {
   "cell_type": "code",
   "execution_count": null,
   "metadata": {},
   "outputs": [],
   "source": [
    "fig, ax = plt.subplots(1,1, figsize=(8, 8))\n",
    "\n",
    "# our point coordinate location - this time lon, lat!\n",
    "ax.plot(location_point[1], location_point[0], \"ro\", markersize=10) \n",
    "\n",
    "ox.plot_graph(\n",
    "    graph1, ax=ax, node_color=\"darkblue\", bgcolor=\"white\", edge_color=\"darkgrey\", node_size=10\n",
    ")"
   ]
  },
  {
   "cell_type": "code",
   "execution_count": null,
   "metadata": {},
   "outputs": [],
   "source": [
    "# we can turn nodes and edges to POINT and LINESTRING objects easily\n",
    "nodes, edges = ox.graph_to_gdfs(graph1)\n",
    "nodes.head()"
   ]
  },
  {
   "cell_type": "code",
   "execution_count": null,
   "metadata": {},
   "outputs": [],
   "source": [
    "edges.plot(color=\"black\", alpha=0.35)"
   ]
  },
  {
   "cell_type": "code",
   "execution_count": null,
   "metadata": {},
   "outputs": [],
   "source": [
    "# network from address, including only nodes within 1km along the network from the address\n",
    "graph_bike = ox.graph_from_address(\n",
    "    address=\"8, Fővám tér, Budapest\",\n",
    "    dist=1000,\n",
    "    dist_type=\"network\",\n",
    "    # this time getting all streets and paths where biking is allowed\n",
    "    network_type=\"bike\"\n",
    ")"
   ]
  },
  {
   "cell_type": "code",
   "execution_count": null,
   "metadata": {},
   "outputs": [],
   "source": [
    "fig, ax = plt.subplots(1,1, figsize=(6, 6))\n",
    "\n",
    "# our point coordinate location \n",
    "ax.plot(location_point[1], location_point[0], \"ro\") \n",
    "\n",
    "ox.plot_graph(\n",
    "    graph_bike, ax=ax, node_color=\"green\", bgcolor=\"white\", edge_color=\"darkgrey\", node_size=12\n",
    ");"
   ]
  },
  {
   "cell_type": "code",
   "execution_count": null,
   "metadata": {},
   "outputs": [],
   "source": [
    "# get the Budapest metro network\n",
    "# first we need to add the railway tag as a 'useful tag' to be included by OSMnx\n",
    "ox.settings.useful_tags_way += [\n",
    "    \"railway\"\n",
    "]\n",
    "\n",
    "cf = '[\"railway\"~\"subway\"]'\n",
    "\n",
    "graph_metro = ox.graph_from_place(\n",
    "    [\"Budapest, Hungary\"],\n",
    "    custom_filter=cf,\n",
    "    retain_all=True,  # keep all components, not just the largest one\n",
    "    truncate_by_edge=False,\n",
    "    simplify=True,\n",
    ")"
   ]
  },
  {
   "cell_type": "code",
   "execution_count": null,
   "metadata": {},
   "outputs": [],
   "source": [
    "# plot the metro network of Budapest\n",
    "fig, ax = plt.subplots(1,1, figsize=(8,6))\n",
    "ox.plot_graph(graph_metro, ax=ax, node_size=0, node_color=\"darkgrey\", edge_color=\"b\", edge_linewidth=1.5)"
   ]
  },
  {
   "cell_type": "code",
   "execution_count": null,
   "metadata": {},
   "outputs": [],
   "source": [
    "# degree table\n",
    "degree_data = dict(graph_metro.degree)\n",
    "degree_df = pd.DataFrame(list(degree_data.items()), columns=[\"osmid\", \"degree\"]).sort_values(by=\"degree\", ascending=False)\n",
    "\n",
    "# add coordinates\n",
    "nodes, edges = ox.graph_to_gdfs(graph_metro)\n",
    "degree_df = pd.merge(\n",
    "    degree_df,\n",
    "    nodes,\n",
    "    on=\"osmid\",\n",
    "    how=\"left\"\n",
    ")"
   ]
  },
  {
   "cell_type": "code",
   "execution_count": null,
   "metadata": {},
   "outputs": [],
   "source": [
    "# check out the first one on google maps\n",
    "degree_df.head()"
   ]
  },
  {
   "cell_type": "code",
   "execution_count": null,
   "metadata": {},
   "outputs": [],
   "source": [
    "# final example -- Debrecen\n",
    "graph_debrecen = ox.graph_from_place(\"Debrecen, Hungary\", network_type=\"drive\")"
   ]
  },
  {
   "cell_type": "code",
   "execution_count": null,
   "metadata": {},
   "outputs": [],
   "source": [
    "fig, ax = plt.subplots(1,1, figsize=(8,6))\n",
    "ox.plot_graph(\n",
    "    graph_debrecen, ax=ax, node_color=\"darkgreen\", bgcolor=\"white\", edge_color=\"darkgrey\", node_size=2\n",
    ")\n",
    "ax.set_title(\"Debrecen\")"
   ]
  },
  {
   "cell_type": "code",
   "execution_count": null,
   "metadata": {},
   "outputs": [],
   "source": [
    "# degree distribution\n",
    "degree_data = dict(graph_debrecen.degree)\n",
    "degree_df = pd.DataFrame(list(degree_data.items()), columns=[\"osmid\", \"degree\"]).sort_values(by=\"degree\", ascending=False)"
   ]
  },
  {
   "cell_type": "code",
   "execution_count": null,
   "metadata": {},
   "outputs": [],
   "source": [
    "fig, ax = plt.subplots(1,1, figsize=(5,4))\n",
    "ax.hist(degree_df[\"degree\"], color=\"darkgreen\")\n",
    "ax.set_xlabel(\"Degree\", size=18)\n",
    "ax.set_ylabel(\"Frequency\", size=18)\n",
    "ax.tick_params(\"y\", labelsize=12)\n",
    "ax.spines['top'].set_visible(False)\n",
    "ax.spines['right'].set_visible(False)"
   ]
  },
  {
   "cell_type": "markdown",
   "metadata": {},
   "source": [
    "**Exercise**\n",
    "\n",
    "Compare the street network of Szeged and Miskolc (or your home town)"
   ]
  },
  {
   "cell_type": "code",
   "execution_count": null,
   "metadata": {},
   "outputs": [],
   "source": []
  }
 ],
 "metadata": {
  "kernelspec": {
   "display_name": "Python 3.10.8 64-bit",
   "language": "python",
   "name": "python3"
  },
  "language_info": {
   "codemirror_mode": {
    "name": "ipython",
    "version": 3
   },
   "file_extension": ".py",
   "mimetype": "text/x-python",
   "name": "python",
   "nbconvert_exporter": "python",
   "pygments_lexer": "ipython3",
   "version": "3.12.2"
  },
  "orig_nbformat": 4,
  "vscode": {
   "interpreter": {
    "hash": "b0fa6594d8f4cbf19f97940f81e996739fb7646882a419484c72d19e05852a7e"
   }
  }
 },
 "nbformat": 4,
 "nbformat_minor": 2
}
